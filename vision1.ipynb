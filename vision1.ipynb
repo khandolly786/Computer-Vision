{
  "cells": [
    {
      "cell_type": "markdown",
      "metadata": {
        "id": "view-in-github",
        "colab_type": "text"
      },
      "source": [
        "<a href=\"https://colab.research.google.com/github/rushi-k12/Image-Recognition/blob/main/vision1.ipynb\" target=\"_parent\"><img src=\"https://colab.research.google.com/assets/colab-badge.svg\" alt=\"Open In Colab\"/></a>"
      ]
    },
    {
      "cell_type": "code",
      "execution_count": 1,
      "metadata": {
        "colab": {
          "base_uri": "https://localhost:8080/"
        },
        "id": "bcxekA1hpdSe",
        "outputId": "ad4fca24-c5cc-4066-a095-fe6a457901e1"
      },
      "outputs": [
        {
          "output_type": "stream",
          "name": "stdout",
          "text": [
            "Downloading data from https://www.cs.toronto.edu/~kriz/cifar-10-python.tar.gz\n",
            "170498071/170498071 [==============================] - 3s 0us/step\n"
          ]
        }
      ],
      "source": [
        "import tensorflow as tf\n",
        "from tensorflow.keras import datasets, layers, models\n",
        "import matplotlib.pyplot as plt\n",
        "\n",
        "# Load and preprocess data\n",
        "(train_images, train_labels), (test_images, test_labels) = datasets.cifar10.load_data()\n",
        "train_images, test_images = train_images / 255.0, test_images / 255.0\n",
        "\n",
        "class_names = ['airplane', 'automobile', 'bird', 'cat', 'deer',\n",
        "               'dog', 'frog', 'horse', 'ship', 'truck']"
      ]
    },
    {
      "cell_type": "code",
      "execution_count": 2,
      "metadata": {
        "colab": {
          "base_uri": "https://localhost:8080/"
        },
        "id": "r0mytoZdphN0",
        "outputId": "ccf2717c-7a50-4ba2-ba1f-703252bc8e9b"
      },
      "outputs": [
        {
          "output_type": "stream",
          "name": "stdout",
          "text": [
            "Epoch 1/10\n",
            "1563/1563 [==============================] - 82s 51ms/step - loss: 1.5556 - accuracy: 0.4318 - val_loss: 1.3251 - val_accuracy: 0.5274\n",
            "Epoch 2/10\n",
            "1563/1563 [==============================] - 79s 50ms/step - loss: 1.1928 - accuracy: 0.5748 - val_loss: 1.1507 - val_accuracy: 0.5940\n",
            "Epoch 3/10\n",
            "1563/1563 [==============================] - 80s 51ms/step - loss: 1.0536 - accuracy: 0.6292 - val_loss: 1.0207 - val_accuracy: 0.6413\n",
            "Epoch 4/10\n",
            "1563/1563 [==============================] - 85s 54ms/step - loss: 0.9594 - accuracy: 0.6634 - val_loss: 0.9864 - val_accuracy: 0.6557\n",
            "Epoch 5/10\n",
            "1563/1563 [==============================] - 78s 50ms/step - loss: 0.8832 - accuracy: 0.6911 - val_loss: 0.9371 - val_accuracy: 0.6712\n",
            "Epoch 6/10\n",
            "1563/1563 [==============================] - 79s 51ms/step - loss: 0.8307 - accuracy: 0.7073 - val_loss: 0.8980 - val_accuracy: 0.6907\n",
            "Epoch 7/10\n",
            "1563/1563 [==============================] - 77s 50ms/step - loss: 0.7843 - accuracy: 0.7249 - val_loss: 0.8893 - val_accuracy: 0.6982\n",
            "Epoch 8/10\n",
            "1563/1563 [==============================] - 81s 52ms/step - loss: 0.7416 - accuracy: 0.7393 - val_loss: 0.9581 - val_accuracy: 0.6701\n",
            "Epoch 9/10\n",
            "1563/1563 [==============================] - 79s 51ms/step - loss: 0.7032 - accuracy: 0.7549 - val_loss: 0.9147 - val_accuracy: 0.6847\n",
            "Epoch 10/10\n",
            "1563/1563 [==============================] - 78s 50ms/step - loss: 0.6697 - accuracy: 0.7632 - val_loss: 0.8894 - val_accuracy: 0.6964\n"
          ]
        }
      ],
      "source": [
        "# Define the CNN model\n",
        "model = models.Sequential([\n",
        "    layers.Conv2D(32, (3, 3), activation='relu', input_shape=(32, 32, 3)),\n",
        "    layers.MaxPooling2D((2, 2)),\n",
        "    layers.Conv2D(64, (3, 3), activation='relu'),\n",
        "    layers.MaxPooling2D((2, 2)),\n",
        "    layers.Conv2D(64, (3, 3), activation='relu'),\n",
        "    layers.Flatten(),\n",
        "    layers.Dense(64, activation='relu'),\n",
        "    layers.Dense(10)\n",
        "])\n",
        "\n",
        "# Compile the model\n",
        "model.compile(optimizer='adam',\n",
        "              loss=tf.keras.losses.SparseCategoricalCrossentropy(from_logits=True),\n",
        "              metrics=['accuracy'])\n",
        "\n",
        "# Train the model\n",
        "history = model.fit(train_images, train_labels, epochs=10,\n",
        "                    validation_data=(test_images, test_labels))"
      ]
    },
    {
      "cell_type": "code",
      "execution_count": 3,
      "metadata": {
        "colab": {
          "base_uri": "https://localhost:8080/"
        },
        "id": "QvZU-6vXpy7E",
        "outputId": "8aef746e-1524-47c9-d2a7-480cfed684ed"
      },
      "outputs": [
        {
          "output_type": "stream",
          "name": "stdout",
          "text": [
            "313/313 - 4s - loss: 0.8894 - accuracy: 0.6964 - 4s/epoch - 12ms/step\n",
            "\n",
            "Test accuracy: 0.696399986743927\n"
          ]
        }
      ],
      "source": [
        "# Evaluate the model\n",
        "test_loss, test_acc = model.evaluate(test_images, test_labels, verbose=2)\n",
        "print(\"\\nTest accuracy:\", test_acc)"
      ]
    },
    {
      "cell_type": "code",
      "execution_count": null,
      "metadata": {
        "id": "YqUcZaacp01m"
      },
      "outputs": [],
      "source": []
    }
  ],
  "metadata": {
    "colab": {
      "provenance": [],
      "authorship_tag": "ABX9TyM/ncYXILEsg0kshzXND+jJ",
      "include_colab_link": true
    },
    "kernelspec": {
      "display_name": "Python 3",
      "name": "python3"
    },
    "language_info": {
      "name": "python"
    }
  },
  "nbformat": 4,
  "nbformat_minor": 0
}